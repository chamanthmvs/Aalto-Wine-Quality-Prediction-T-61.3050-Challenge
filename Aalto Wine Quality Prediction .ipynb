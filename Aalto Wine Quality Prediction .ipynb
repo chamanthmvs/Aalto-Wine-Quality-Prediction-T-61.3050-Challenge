{
 "cells": [
  {
   "cell_type": "markdown",
   "metadata": {},
   "source": [
    "## Aalto Wine Quality Prediction : T-61.3050 Challenge"
   ]
  },
  {
   "cell_type": "markdown",
   "metadata": {},
   "source": [
    "**Problem Statement** : Jorma, Alex and the T.A's need your help selecting the perfect bottle of wine for that special occasion. Since we don't know much about wine itself, we're hoping that training data with expert ratings will help us decide what makes a 'good' wine good. Use the training data to predict the quality of unrated wines in the test data."
   ]
  },
  {
   "cell_type": "markdown",
   "metadata": {},
   "source": [
    "### Steps performed in predicting\n",
    "\n",
    "a) Performing exploratory data analysis using PCA to find top features using t-SNE for visualizing the data\n",
    "  \n",
    "  We are not using pair plots because there are 11 features. Plotting a pair plot for more than 4 features might be cumbersome task. So,using t-SNE we visualize the data\n",
    "\n",
    "\n",
    "b) Using Classification algorithm predicting the quality"
   ]
  },
  {
   "cell_type": "code",
   "execution_count": 1,
   "metadata": {},
   "outputs": [],
   "source": [
    "import pandas as pd\n",
    "import numpy as np\n",
    "import seaborn as sns\n",
    "import matplotlib.pyplot as plt"
   ]
  },
  {
   "cell_type": "code",
   "execution_count": 2,
   "metadata": {
    "collapsed": true
   },
   "outputs": [],
   "source": [
    "#loading the training data and perforing analysis on this data\n",
    "\n",
    "wine_data = pd.read_csv(\"training_classification_regression_2015.csv\")"
   ]
  },
  {
   "cell_type": "code",
   "execution_count": 3,
   "metadata": {
    "scrolled": true
   },
   "outputs": [
    {
     "data": {
      "text/html": [
       "<div>\n",
       "<style scoped>\n",
       "    .dataframe tbody tr th:only-of-type {\n",
       "        vertical-align: middle;\n",
       "    }\n",
       "\n",
       "    .dataframe tbody tr th {\n",
       "        vertical-align: top;\n",
       "    }\n",
       "\n",
       "    .dataframe thead th {\n",
       "        text-align: right;\n",
       "    }\n",
       "</style>\n",
       "<table border=\"1\" class=\"dataframe\">\n",
       "  <thead>\n",
       "    <tr style=\"text-align: right;\">\n",
       "      <th></th>\n",
       "      <th>fixedAcidity</th>\n",
       "      <th>volatileAcidity</th>\n",
       "      <th>citricAcid</th>\n",
       "      <th>residualSugar</th>\n",
       "      <th>chlorides</th>\n",
       "      <th>freeSulfurDioxide</th>\n",
       "      <th>totalSulfurDioxide</th>\n",
       "      <th>density</th>\n",
       "      <th>pH</th>\n",
       "      <th>sulphates</th>\n",
       "      <th>alcohol</th>\n",
       "      <th>quality</th>\n",
       "      <th>type</th>\n",
       "    </tr>\n",
       "  </thead>\n",
       "  <tbody>\n",
       "    <tr>\n",
       "      <th>0</th>\n",
       "      <td>6.945513</td>\n",
       "      <td>0.272992</td>\n",
       "      <td>0.403691</td>\n",
       "      <td>13.920038</td>\n",
       "      <td>0.051043</td>\n",
       "      <td>66.077662</td>\n",
       "      <td>245.612070</td>\n",
       "      <td>0.998768</td>\n",
       "      <td>3.161269</td>\n",
       "      <td>0.579738</td>\n",
       "      <td>9.504513</td>\n",
       "      <td>4</td>\n",
       "      <td>White</td>\n",
       "    </tr>\n",
       "    <tr>\n",
       "      <th>1</th>\n",
       "      <td>6.995486</td>\n",
       "      <td>0.190402</td>\n",
       "      <td>0.310377</td>\n",
       "      <td>19.186267</td>\n",
       "      <td>0.044147</td>\n",
       "      <td>39.852796</td>\n",
       "      <td>175.908433</td>\n",
       "      <td>1.000245</td>\n",
       "      <td>2.932994</td>\n",
       "      <td>0.523323</td>\n",
       "      <td>9.112224</td>\n",
       "      <td>3</td>\n",
       "      <td>White</td>\n",
       "    </tr>\n",
       "    <tr>\n",
       "      <th>2</th>\n",
       "      <td>5.978831</td>\n",
       "      <td>0.140616</td>\n",
       "      <td>0.251393</td>\n",
       "      <td>4.402912</td>\n",
       "      <td>0.028109</td>\n",
       "      <td>32.093612</td>\n",
       "      <td>151.569367</td>\n",
       "      <td>0.995412</td>\n",
       "      <td>3.488070</td>\n",
       "      <td>0.511582</td>\n",
       "      <td>11.077951</td>\n",
       "      <td>4</td>\n",
       "      <td>White</td>\n",
       "    </tr>\n",
       "    <tr>\n",
       "      <th>3</th>\n",
       "      <td>6.688603</td>\n",
       "      <td>0.371501</td>\n",
       "      <td>0.507942</td>\n",
       "      <td>11.862843</td>\n",
       "      <td>0.044918</td>\n",
       "      <td>67.531739</td>\n",
       "      <td>155.608503</td>\n",
       "      <td>0.998803</td>\n",
       "      <td>3.174425</td>\n",
       "      <td>0.439773</td>\n",
       "      <td>8.853944</td>\n",
       "      <td>5</td>\n",
       "      <td>White</td>\n",
       "    </tr>\n",
       "    <tr>\n",
       "      <th>4</th>\n",
       "      <td>7.224421</td>\n",
       "      <td>0.201252</td>\n",
       "      <td>0.220918</td>\n",
       "      <td>1.612570</td>\n",
       "      <td>0.044984</td>\n",
       "      <td>16.817987</td>\n",
       "      <td>121.629623</td>\n",
       "      <td>0.995424</td>\n",
       "      <td>3.373870</td>\n",
       "      <td>0.528637</td>\n",
       "      <td>10.366208</td>\n",
       "      <td>5</td>\n",
       "      <td>White</td>\n",
       "    </tr>\n",
       "  </tbody>\n",
       "</table>\n",
       "</div>"
      ],
      "text/plain": [
       "   fixedAcidity  volatileAcidity  citricAcid  residualSugar  chlorides  \\\n",
       "0      6.945513         0.272992    0.403691      13.920038   0.051043   \n",
       "1      6.995486         0.190402    0.310377      19.186267   0.044147   \n",
       "2      5.978831         0.140616    0.251393       4.402912   0.028109   \n",
       "3      6.688603         0.371501    0.507942      11.862843   0.044918   \n",
       "4      7.224421         0.201252    0.220918       1.612570   0.044984   \n",
       "\n",
       "   freeSulfurDioxide  totalSulfurDioxide   density        pH  sulphates  \\\n",
       "0          66.077662          245.612070  0.998768  3.161269   0.579738   \n",
       "1          39.852796          175.908433  1.000245  2.932994   0.523323   \n",
       "2          32.093612          151.569367  0.995412  3.488070   0.511582   \n",
       "3          67.531739          155.608503  0.998803  3.174425   0.439773   \n",
       "4          16.817987          121.629623  0.995424  3.373870   0.528637   \n",
       "\n",
       "     alcohol  quality   type  \n",
       "0   9.504513        4  White  \n",
       "1   9.112224        3  White  \n",
       "2  11.077951        4  White  \n",
       "3   8.853944        5  White  \n",
       "4  10.366208        5  White  "
      ]
     },
     "execution_count": 3,
     "metadata": {},
     "output_type": "execute_result"
    }
   ],
   "source": [
    "wine_data.head()"
   ]
  },
  {
   "cell_type": "code",
   "execution_count": 4,
   "metadata": {},
   "outputs": [
    {
     "data": {
      "text/plain": [
       "(5000, 13)"
      ]
     },
     "execution_count": 4,
     "metadata": {},
     "output_type": "execute_result"
    }
   ],
   "source": [
    "#shape of the data\n",
    "wine_data.shape"
   ]
  },
  {
   "cell_type": "markdown",
   "metadata": {},
   "source": [
    "5000 observations and 13 features \n",
    "\n",
    "Of which two features ['quality' , 'type'] are class variables "
   ]
  },
  {
   "cell_type": "code",
   "execution_count": 5,
   "metadata": {},
   "outputs": [
    {
     "data": {
      "text/plain": [
       "4    2191\n",
       "5    1625\n",
       "3     842\n",
       "6     165\n",
       "2     156\n",
       "7      20\n",
       "1       1\n",
       "Name: quality, dtype: int64"
      ]
     },
     "execution_count": 5,
     "metadata": {},
     "output_type": "execute_result"
    }
   ],
   "source": [
    "#lets analyze the data using value_counts to further know whether it is balanced data or imbalanced data\n",
    "\n",
    "wine_data['quality'].value_counts()"
   ]
  },
  {
   "cell_type": "code",
   "execution_count": 6,
   "metadata": {},
   "outputs": [
    {
     "data": {
      "text/plain": [
       "White    4086\n",
       "Red       914\n",
       "Name: type, dtype: int64"
      ]
     },
     "execution_count": 6,
     "metadata": {},
     "output_type": "execute_result"
    }
   ],
   "source": [
    "wine_data['type'].value_counts()"
   ]
  },
  {
   "cell_type": "code",
   "execution_count": 7,
   "metadata": {
    "collapsed": true
   },
   "outputs": [],
   "source": [
    "wine_data_without_class_variables = wine_data[wine_data.columns[:11]]"
   ]
  },
  {
   "cell_type": "code",
   "execution_count": 8,
   "metadata": {},
   "outputs": [
    {
     "data": {
      "text/plain": [
       "(5000, 11)"
      ]
     },
     "execution_count": 8,
     "metadata": {},
     "output_type": "execute_result"
    }
   ],
   "source": [
    "wine_data_without_class_variables.shape"
   ]
  },
  {
   "cell_type": "markdown",
   "metadata": {},
   "source": [
    " it is the dataset without class variable , we can use this for dimensionality reduction, visualization(t-SNE)"
   ]
  },
  {
   "cell_type": "markdown",
   "metadata": {},
   "source": [
    "**Initial Observation**\n",
    "\n",
    "1 . There are two class variables (Quality and Type)\n",
    "\n",
    "2 . Quality has 7 classes (1-7) and \n",
    "\n",
    "3 . Type has two types (white and red)\n",
    "\n",
    "It is an imbalanced dataset"
   ]
  },
  {
   "cell_type": "markdown",
   "metadata": {},
   "source": [
    "### Exploratory data analysis"
   ]
  },
  {
   "cell_type": "code",
   "execution_count": 9,
   "metadata": {},
   "outputs": [
    {
     "name": "stdout",
     "output_type": "stream",
     "text": [
      "(5000, 11)\n"
     ]
    }
   ],
   "source": [
    "# Data-preprocessing: Standardizing the data to get all the data into same interval (column standardization)\n",
    "# that mean each column will have mean = 0 and standard deviation = 1\n",
    "\n",
    "from sklearn.preprocessing import StandardScaler\n",
    "standardized_data = StandardScaler().fit_transform(wine_data_without_class_variables)\n",
    "print(standardized_data.shape)\n"
   ]
  },
  {
   "cell_type": "code",
   "execution_count": 10,
   "metadata": {
    "collapsed": true
   },
   "outputs": [],
   "source": [
    "sample_data = standardized_data"
   ]
  },
  {
   "cell_type": "markdown",
   "metadata": {},
   "source": [
    "#### Using PCA let's reduce the features , lets find how many features to be reduced so that we can preserve as much variance as possible\n",
    "We use Scikit-learn to compute principal features"
   ]
  },
  {
   "cell_type": "code",
   "execution_count": 11,
   "metadata": {},
   "outputs": [
    {
     "data": {
      "image/png": "[encoded data removed]",
      "text/plain": [
       "<Figure size 432x288 with 1 Axes>"
      ]
     },
     "metadata": {},
     "output_type": "display_data"
    }
   ],
   "source": [
    "# initializing the pca\n",
    "from sklearn import decomposition\n",
    "pca = decomposition.PCA()\n",
    "\n",
    "# PCA for dimensionality redcution \n",
    "\n",
    "pca.n_components = 11\n",
    "pca_data = pca.fit_transform(sample_data)\n",
    "\n",
    "percentage_var_explained = pca.explained_variance_ / np.sum(pca.explained_variance_);\n",
    "\n",
    "cum_var_explained = np.cumsum(percentage_var_explained)\n",
    "\n",
    "# Plot the PCA spectrum\n",
    "plt.figure(1, figsize=(6, 4))\n",
    "\n",
    "plt.clf()\n",
    "plt.plot(cum_var_explained, linewidth=2)\n",
    "plt.axis('tight')\n",
    "plt.grid()\n",
    "plt.xlabel('n_components')\n",
    "plt.ylabel('Cumulative_explained_variance')\n",
    "plt.show()\n",
    "\n"
   ]
  },
  {
   "cell_type": "markdown",
   "metadata": {},
   "source": [
    "#### **Observation**:\n",
    "   \n",
    "   From the above plot we can understand that if we reduce our features from 11 to 6-7 , then we can preserve over 90% of variance"
   ]
  },
  {
   "cell_type": "markdown",
   "metadata": {},
   "source": [
    "### Visualizing the data \n",
    "\n",
    "**Using t-SNE (t distributed Stochastic Neighborhood embedding) might not be a good solution for this data**. Because we typically use t-SNE for large dimensional dataset.As we have only 11 dimensions , it is not ideal to use , let's use\n",
    "**PCA for visualization**."
   ]
  },
  {
   "cell_type": "code",
   "execution_count": 12,
   "metadata": {},
   "outputs": [
    {
     "name": "stdout",
     "output_type": "stream",
     "text": [
      "shape of pca_reduced.shape =  (5000, 2)\n"
     ]
    }
   ],
   "source": [
    "# configuring the parameteres\n",
    "# the number of components = 2\n",
    "pca.n_components = 2\n",
    "pca_data = pca.fit_transform(sample_data)\n",
    "\n",
    "# pca_reduced will contain the 2-d projections of simple data(sample data)\n",
    "print(\"shape of pca_reduced.shape = \", pca_data.shape)\n"
   ]
  },
  {
   "cell_type": "code",
   "execution_count": 13,
   "metadata": {
    "collapsed": true
   },
   "outputs": [],
   "source": [
    "wine_data_quality = wine_data['quality']"
   ]
  },
  {
   "cell_type": "code",
   "execution_count": 14,
   "metadata": {},
   "outputs": [
    {
     "data": {
      "text/plain": [
       "(5000,)"
      ]
     },
     "execution_count": 14,
     "metadata": {},
     "output_type": "execute_result"
    }
   ],
   "source": [
    "wine_data_quality.shape"
   ]
  },
  {
   "cell_type": "code",
   "execution_count": 18,
   "metadata": {},
   "outputs": [
    {
     "data": {
      "image/png": "[encoded data removed]",
      "text/plain": [
       "<Figure size 481.875x432 with 1 Axes>"
      ]
     },
     "metadata": {},
     "output_type": "display_data"
    }
   ],
   "source": [
    "# attaching the label for each 2-d data point \n",
    "pca_data_stack = np.vstack((pca_data.T, wine_data_quality)).T\n",
    "\n",
    "# creating a new data fram which help us in ploting the result data\n",
    "pca_df = pd.DataFrame(data=pca_data_stack, columns=(\"1st_principal_feature\", \"2nd_principal_feature\", \"quality\"))\n",
    "sns.FacetGrid(pca_df, hue=\"quality\", size=6).map(plt.scatter, \"1st_principal_feature\", \"2nd_principal_feature\").add_legend()\n",
    "plt.show()"
   ]
  },
  {
   "cell_type": "markdown",
   "metadata": {},
   "source": [
    "**Observation:**\n",
    "    \n",
    "1.We cannot interpret anything from this plot as most of the points are overlapped moreover it is an imbalanced data. So, there are more datapoints which have quality 5.\n",
    "\n",
    "##### As it is imbalanced dataset , we can deal with this type of data in various methods like undersampling, oversampling but each have it's own drawbacks. "
   ]
  },
  {
   "cell_type": "code",
   "execution_count": 20,
   "metadata": {},
   "outputs": [
    {
     "data": {
      "text/html": [
       "<div>\n",
       "<style scoped>\n",
       "    .dataframe tbody tr th:only-of-type {\n",
       "        vertical-align: middle;\n",
       "    }\n",
       "\n",
       "    .dataframe tbody tr th {\n",
       "        vertical-align: top;\n",
       "    }\n",
       "\n",
       "    .dataframe thead th {\n",
       "        text-align: right;\n",
       "    }\n",
       "</style>\n",
       "<table border=\"1\" class=\"dataframe\">\n",
       "  <thead>\n",
       "    <tr style=\"text-align: right;\">\n",
       "      <th></th>\n",
       "      <th>fixedAcidity</th>\n",
       "      <th>volatileAcidity</th>\n",
       "      <th>citricAcid</th>\n",
       "      <th>residualSugar</th>\n",
       "      <th>chlorides</th>\n",
       "      <th>freeSulfurDioxide</th>\n",
       "      <th>totalSulfurDioxide</th>\n",
       "      <th>density</th>\n",
       "      <th>pH</th>\n",
       "      <th>sulphates</th>\n",
       "      <th>alcohol</th>\n",
       "    </tr>\n",
       "  </thead>\n",
       "  <tbody>\n",
       "    <tr>\n",
       "      <th>0</th>\n",
       "      <td>6.945513</td>\n",
       "      <td>0.272992</td>\n",
       "      <td>0.403691</td>\n",
       "      <td>13.920038</td>\n",
       "      <td>0.051043</td>\n",
       "      <td>66.077662</td>\n",
       "      <td>245.612070</td>\n",
       "      <td>0.998768</td>\n",
       "      <td>3.161269</td>\n",
       "      <td>0.579738</td>\n",
       "      <td>9.504513</td>\n",
       "    </tr>\n",
       "    <tr>\n",
       "      <th>1</th>\n",
       "      <td>6.995486</td>\n",
       "      <td>0.190402</td>\n",
       "      <td>0.310377</td>\n",
       "      <td>19.186267</td>\n",
       "      <td>0.044147</td>\n",
       "      <td>39.852796</td>\n",
       "      <td>175.908433</td>\n",
       "      <td>1.000245</td>\n",
       "      <td>2.932994</td>\n",
       "      <td>0.523323</td>\n",
       "      <td>9.112224</td>\n",
       "    </tr>\n",
       "    <tr>\n",
       "      <th>2</th>\n",
       "      <td>5.978831</td>\n",
       "      <td>0.140616</td>\n",
       "      <td>0.251393</td>\n",
       "      <td>4.402912</td>\n",
       "      <td>0.028109</td>\n",
       "      <td>32.093612</td>\n",
       "      <td>151.569367</td>\n",
       "      <td>0.995412</td>\n",
       "      <td>3.488070</td>\n",
       "      <td>0.511582</td>\n",
       "      <td>11.077951</td>\n",
       "    </tr>\n",
       "    <tr>\n",
       "      <th>3</th>\n",
       "      <td>6.688603</td>\n",
       "      <td>0.371501</td>\n",
       "      <td>0.507942</td>\n",
       "      <td>11.862843</td>\n",
       "      <td>0.044918</td>\n",
       "      <td>67.531739</td>\n",
       "      <td>155.608503</td>\n",
       "      <td>0.998803</td>\n",
       "      <td>3.174425</td>\n",
       "      <td>0.439773</td>\n",
       "      <td>8.853944</td>\n",
       "    </tr>\n",
       "    <tr>\n",
       "      <th>4</th>\n",
       "      <td>7.224421</td>\n",
       "      <td>0.201252</td>\n",
       "      <td>0.220918</td>\n",
       "      <td>1.612570</td>\n",
       "      <td>0.044984</td>\n",
       "      <td>16.817987</td>\n",
       "      <td>121.629623</td>\n",
       "      <td>0.995424</td>\n",
       "      <td>3.373870</td>\n",
       "      <td>0.528637</td>\n",
       "      <td>10.366208</td>\n",
       "    </tr>\n",
       "  </tbody>\n",
       "</table>\n",
       "</div>"
      ],
      "text/plain": [
       "   fixedAcidity  volatileAcidity  citricAcid  residualSugar  chlorides  \\\n",
       "0      6.945513         0.272992    0.403691      13.920038   0.051043   \n",
       "1      6.995486         0.190402    0.310377      19.186267   0.044147   \n",
       "2      5.978831         0.140616    0.251393       4.402912   0.028109   \n",
       "3      6.688603         0.371501    0.507942      11.862843   0.044918   \n",
       "4      7.224421         0.201252    0.220918       1.612570   0.044984   \n",
       "\n",
       "   freeSulfurDioxide  totalSulfurDioxide   density        pH  sulphates  \\\n",
       "0          66.077662          245.612070  0.998768  3.161269   0.579738   \n",
       "1          39.852796          175.908433  1.000245  2.932994   0.523323   \n",
       "2          32.093612          151.569367  0.995412  3.488070   0.511582   \n",
       "3          67.531739          155.608503  0.998803  3.174425   0.439773   \n",
       "4          16.817987          121.629623  0.995424  3.373870   0.528637   \n",
       "\n",
       "     alcohol  \n",
       "0   9.504513  \n",
       "1   9.112224  \n",
       "2  11.077951  \n",
       "3   8.853944  \n",
       "4  10.366208  "
      ]
     },
     "execution_count": 20,
     "metadata": {},
     "output_type": "execute_result"
    }
   ],
   "source": [
    "wine_data_without_class_variables.head()"
   ]
  },
  {
   "cell_type": "code",
   "execution_count": 35,
   "metadata": {},
   "outputs": [
    {
     "data": {
      "text/plain": [
       "array([[-0.19583107, -0.33864883,  0.54306071, ..., -0.31063074,\n",
       "         0.39002384, -0.80353718],\n",
       "       [-0.15725967, -0.87330518, -0.12404425, ..., -1.75484854,\n",
       "         0.00219045, -1.12884446],\n",
       "       [-0.94194895, -1.19559677, -0.54572172, ...,  1.75692465,\n",
       "        -0.07852325,  0.50124509],\n",
       "       ...,\n",
       "       [-0.10381393, -0.7296773 , -0.04677105, ..., -0.03673834,\n",
       "         0.34939361, -0.3084982 ],\n",
       "       [ 0.23771623, -0.61773953, -0.4740231 , ..., -1.09290921,\n",
       "        -0.57396303, -1.16372337],\n",
       "       [-0.40059683, -0.16096216,  1.25782885, ..., -1.16674536,\n",
       "         0.08149233, -1.33462896]])"
      ]
     },
     "execution_count": 35,
     "metadata": {},
     "output_type": "execute_result"
    }
   ],
   "source": [
    "sample_data #this is a numpy array (we have standardized the original data to get this)"
   ]
  },
  {
   "cell_type": "markdown",
   "metadata": {},
   "source": [
    "### Training the model with various Machine Learning algorithms and see which algorithm works better"
   ]
  },
  {
   "cell_type": "markdown",
   "metadata": {},
   "source": [
    "We have only training data , we will split this training data into train_data and test_data to verify the accuracy\n",
    "\n"
   ]
  },
  {
   "cell_type": "code",
   "execution_count": 76,
   "metadata": {},
   "outputs": [],
   "source": [
    "from sklearn.model_selection import train_test_split  \n",
    "sample_data_train, sample_data_test, wine_data_quality_train, wine_data_quality_test = train_test_split(sample_data, wine_data_quality, test_size=0.20,random_state = 0) "
   ]
  },
  {
   "cell_type": "code",
   "execution_count": 77,
   "metadata": {},
   "outputs": [
    {
     "data": {
      "text/plain": [
       "(1000, 11)"
      ]
     },
     "execution_count": 77,
     "metadata": {},
     "output_type": "execute_result"
    }
   ],
   "source": [
    "sample_data_test.shape"
   ]
  },
  {
   "cell_type": "code",
   "execution_count": 78,
   "metadata": {},
   "outputs": [
    {
     "data": {
      "text/plain": [
       "(4000, 11)"
      ]
     },
     "execution_count": 78,
     "metadata": {},
     "output_type": "execute_result"
    }
   ],
   "source": [
    "sample_data_train.shape"
   ]
  },
  {
   "cell_type": "code",
   "execution_count": 79,
   "metadata": {},
   "outputs": [
    {
     "data": {
      "text/plain": [
       "(1000,)"
      ]
     },
     "execution_count": 79,
     "metadata": {},
     "output_type": "execute_result"
    }
   ],
   "source": [
    "wine_data_quality_test.shape"
   ]
  },
  {
   "cell_type": "code",
   "execution_count": 80,
   "metadata": {},
   "outputs": [
    {
     "data": {
      "text/plain": [
       "(4000,)"
      ]
     },
     "execution_count": 80,
     "metadata": {},
     "output_type": "execute_result"
    }
   ],
   "source": [
    "wine_data_quality_train.shape"
   ]
  },
  {
   "cell_type": "markdown",
   "metadata": {},
   "source": [
    "### Using k-nn Classification\n",
    "\n",
    "Here we use cross-validation data as test data (by which we can also find optimal k) and keeping test-data aside(making test-data untouched one). So, after finding the accuracy we can generalize orelse we can't generalize.\n",
    "\n",
    "After generalizing we can use test-dataset to find the quality predictions\n",
    "\n"
   ]
  },
  {
   "cell_type": "code",
   "execution_count": 59,
   "metadata": {},
   "outputs": [
    {
     "name": "stderr",
     "output_type": "stream",
     "text": [
      "C:\\Users\\CHAMANTH MVS\\Anaconda3\\lib\\site-packages\\sklearn\\cross_validation.py:41: DeprecationWarning: This module was deprecated in version 0.18 in favor of the model_selection module into which all the refactored classes and functions are moved. Also note that the interface of the new CV iterators are different from that of this module. This module will be removed in 0.20.\n",
      "  \"This module will be removed in 0.20.\", DeprecationWarning)\n"
     ]
    },
    {
     "name": "stdout",
     "output_type": "stream",
     "text": [
      "\n",
      "CV accuracy for k = 1 is 55%\n",
      "\n",
      "CV accuracy for k = 3 is 50%\n",
      "\n",
      "CV accuracy for k = 5 is 52%\n",
      "\n",
      "CV accuracy for k = 7 is 52%\n",
      "\n",
      "CV accuracy for k = 9 is 52%\n",
      "\n",
      "CV accuracy for k = 11 is 52%\n",
      "\n",
      "CV accuracy for k = 13 is 52%\n",
      "\n",
      "CV accuracy for k = 15 is 51%\n",
      "\n",
      "CV accuracy for k = 17 is 51%\n",
      "\n",
      "CV accuracy for k = 19 is 50%\n",
      "\n",
      "CV accuracy for k = 21 is 50%\n",
      "\n",
      "CV accuracy for k = 23 is 52%\n",
      "\n",
      "CV accuracy for k = 25 is 52%\n",
      "\n",
      "CV accuracy for k = 27 is 51%\n",
      "\n",
      "CV accuracy for k = 29 is 52%\n"
     ]
    }
   ],
   "source": [
    "from sklearn.cross_validation import train_test_split\n",
    "from sklearn.neighbors import KNeighborsClassifier\n",
    "from sklearn.metrics import accuracy_score\n",
    "from sklearn.cross_validation import cross_val_score\n",
    "from sklearn.metrics import accuracy_score\n",
    "from sklearn import cross_validation\n",
    "\n",
    "# split the train data set into cross validation train and cross validation test\n",
    "data_train, data_cv, qualitylabel_train, qualitylabel_cv = cross_validation.train_test_split(sample_data_train, wine_data_quality_train, test_size=0.3)\n",
    "\n",
    "for i in range(1,30,2):\n",
    "    # instantiate learning model (k = 30)\n",
    "    knn = KNeighborsClassifier(n_neighbors=i) #trying for 1 to 30 k values to find optimal k\n",
    "\n",
    "    # fitting the model on crossvalidation train\n",
    "    knn.fit(data_train, qualitylabel_train)\n",
    "\n",
    "    # predict the response on the crossvalidation train\n",
    "    prediction = knn.predict(data_cv)\n",
    "\n",
    "    # evaluate CV accuracy\n",
    "    accuracy = accuracy_score(qualitylabel_cv, prediction, normalize=True) * float(100)\n",
    "    print('\\nCV accuracy for k = %d is %d%%' % (i, accuracy))\n",
    "    \n"
   ]
  },
  {
   "cell_type": "markdown",
   "metadata": {},
   "source": [
    "### 10-fold cross validation"
   ]
  },
  {
   "cell_type": "code",
   "execution_count": 61,
   "metadata": {},
   "outputs": [
    {
     "name": "stderr",
     "output_type": "stream",
     "text": [
      "C:\\Users\\CHAMANTH MVS\\Anaconda3\\lib\\site-packages\\sklearn\\cross_validation.py:553: Warning: The least populated class in y has only 1 members, which is too few. The minimum number of labels for any class cannot be less than n_folds=10.\n",
      "  % (min_labels, self.n_folds)), Warning)\n",
      "C:\\Users\\CHAMANTH MVS\\Anaconda3\\lib\\site-packages\\sklearn\\cross_validation.py:553: Warning: The least populated class in y has only 1 members, which is too few. The minimum number of labels for any class cannot be less than n_folds=10.\n",
      "  % (min_labels, self.n_folds)), Warning)\n",
      "C:\\Users\\CHAMANTH MVS\\Anaconda3\\lib\\site-packages\\sklearn\\cross_validation.py:553: Warning: The least populated class in y has only 1 members, which is too few. The minimum number of labels for any class cannot be less than n_folds=10.\n",
      "  % (min_labels, self.n_folds)), Warning)\n",
      "C:\\Users\\CHAMANTH MVS\\Anaconda3\\lib\\site-packages\\sklearn\\cross_validation.py:553: Warning: The least populated class in y has only 1 members, which is too few. The minimum number of labels for any class cannot be less than n_folds=10.\n",
      "  % (min_labels, self.n_folds)), Warning)\n",
      "C:\\Users\\CHAMANTH MVS\\Anaconda3\\lib\\site-packages\\sklearn\\cross_validation.py:553: Warning: The least populated class in y has only 1 members, which is too few. The minimum number of labels for any class cannot be less than n_folds=10.\n",
      "  % (min_labels, self.n_folds)), Warning)\n",
      "C:\\Users\\CHAMANTH MVS\\Anaconda3\\lib\\site-packages\\sklearn\\cross_validation.py:553: Warning: The least populated class in y has only 1 members, which is too few. The minimum number of labels for any class cannot be less than n_folds=10.\n",
      "  % (min_labels, self.n_folds)), Warning)\n",
      "C:\\Users\\CHAMANTH MVS\\Anaconda3\\lib\\site-packages\\sklearn\\cross_validation.py:553: Warning: The least populated class in y has only 1 members, which is too few. The minimum number of labels for any class cannot be less than n_folds=10.\n",
      "  % (min_labels, self.n_folds)), Warning)\n",
      "C:\\Users\\CHAMANTH MVS\\Anaconda3\\lib\\site-packages\\sklearn\\cross_validation.py:553: Warning: The least populated class in y has only 1 members, which is too few. The minimum number of labels for any class cannot be less than n_folds=10.\n",
      "  % (min_labels, self.n_folds)), Warning)\n",
      "C:\\Users\\CHAMANTH MVS\\Anaconda3\\lib\\site-packages\\sklearn\\cross_validation.py:553: Warning: The least populated class in y has only 1 members, which is too few. The minimum number of labels for any class cannot be less than n_folds=10.\n",
      "  % (min_labels, self.n_folds)), Warning)\n",
      "C:\\Users\\CHAMANTH MVS\\Anaconda3\\lib\\site-packages\\sklearn\\cross_validation.py:553: Warning: The least populated class in y has only 1 members, which is too few. The minimum number of labels for any class cannot be less than n_folds=10.\n",
      "  % (min_labels, self.n_folds)), Warning)\n",
      "C:\\Users\\CHAMANTH MVS\\Anaconda3\\lib\\site-packages\\sklearn\\cross_validation.py:553: Warning: The least populated class in y has only 1 members, which is too few. The minimum number of labels for any class cannot be less than n_folds=10.\n",
      "  % (min_labels, self.n_folds)), Warning)\n",
      "C:\\Users\\CHAMANTH MVS\\Anaconda3\\lib\\site-packages\\sklearn\\cross_validation.py:553: Warning: The least populated class in y has only 1 members, which is too few. The minimum number of labels for any class cannot be less than n_folds=10.\n",
      "  % (min_labels, self.n_folds)), Warning)\n",
      "C:\\Users\\CHAMANTH MVS\\Anaconda3\\lib\\site-packages\\sklearn\\cross_validation.py:553: Warning: The least populated class in y has only 1 members, which is too few. The minimum number of labels for any class cannot be less than n_folds=10.\n",
      "  % (min_labels, self.n_folds)), Warning)\n",
      "C:\\Users\\CHAMANTH MVS\\Anaconda3\\lib\\site-packages\\sklearn\\cross_validation.py:553: Warning: The least populated class in y has only 1 members, which is too few. The minimum number of labels for any class cannot be less than n_folds=10.\n",
      "  % (min_labels, self.n_folds)), Warning)\n",
      "C:\\Users\\CHAMANTH MVS\\Anaconda3\\lib\\site-packages\\sklearn\\cross_validation.py:553: Warning: The least populated class in y has only 1 members, which is too few. The minimum number of labels for any class cannot be less than n_folds=10.\n",
      "  % (min_labels, self.n_folds)), Warning)\n",
      "C:\\Users\\CHAMANTH MVS\\Anaconda3\\lib\\site-packages\\sklearn\\cross_validation.py:553: Warning: The least populated class in y has only 1 members, which is too few. The minimum number of labels for any class cannot be less than n_folds=10.\n",
      "  % (min_labels, self.n_folds)), Warning)\n",
      "C:\\Users\\CHAMANTH MVS\\Anaconda3\\lib\\site-packages\\sklearn\\cross_validation.py:553: Warning: The least populated class in y has only 1 members, which is too few. The minimum number of labels for any class cannot be less than n_folds=10.\n",
      "  % (min_labels, self.n_folds)), Warning)\n",
      "C:\\Users\\CHAMANTH MVS\\Anaconda3\\lib\\site-packages\\sklearn\\cross_validation.py:553: Warning: The least populated class in y has only 1 members, which is too few. The minimum number of labels for any class cannot be less than n_folds=10.\n",
      "  % (min_labels, self.n_folds)), Warning)\n",
      "C:\\Users\\CHAMANTH MVS\\Anaconda3\\lib\\site-packages\\sklearn\\cross_validation.py:553: Warning: The least populated class in y has only 1 members, which is too few. The minimum number of labels for any class cannot be less than n_folds=10.\n",
      "  % (min_labels, self.n_folds)), Warning)\n",
      "C:\\Users\\CHAMANTH MVS\\Anaconda3\\lib\\site-packages\\sklearn\\cross_validation.py:553: Warning: The least populated class in y has only 1 members, which is too few. The minimum number of labels for any class cannot be less than n_folds=10.\n",
      "  % (min_labels, self.n_folds)), Warning)\n",
      "C:\\Users\\CHAMANTH MVS\\Anaconda3\\lib\\site-packages\\sklearn\\cross_validation.py:553: Warning: The least populated class in y has only 1 members, which is too few. The minimum number of labels for any class cannot be less than n_folds=10.\n",
      "  % (min_labels, self.n_folds)), Warning)\n",
      "C:\\Users\\CHAMANTH MVS\\Anaconda3\\lib\\site-packages\\sklearn\\cross_validation.py:553: Warning: The least populated class in y has only 1 members, which is too few. The minimum number of labels for any class cannot be less than n_folds=10.\n",
      "  % (min_labels, self.n_folds)), Warning)\n",
      "C:\\Users\\CHAMANTH MVS\\Anaconda3\\lib\\site-packages\\sklearn\\cross_validation.py:553: Warning: The least populated class in y has only 1 members, which is too few. The minimum number of labels for any class cannot be less than n_folds=10.\n",
      "  % (min_labels, self.n_folds)), Warning)\n",
      "C:\\Users\\CHAMANTH MVS\\Anaconda3\\lib\\site-packages\\sklearn\\cross_validation.py:553: Warning: The least populated class in y has only 1 members, which is too few. The minimum number of labels for any class cannot be less than n_folds=10.\n",
      "  % (min_labels, self.n_folds)), Warning)\n",
      "C:\\Users\\CHAMANTH MVS\\Anaconda3\\lib\\site-packages\\sklearn\\cross_validation.py:553: Warning: The least populated class in y has only 1 members, which is too few. The minimum number of labels for any class cannot be less than n_folds=10.\n",
      "  % (min_labels, self.n_folds)), Warning)\n"
     ]
    },
    {
     "name": "stdout",
     "output_type": "stream",
     "text": [
      "\n",
      "The optimal number of neighbors is 1.\n"
     ]
    }
   ],
   "source": [
    "# creating odd list of K for KNN\n",
    "myList = list(range(0,50))\n",
    "neighbors = list(filter(lambda x: x % 2 != 0, myList))\n",
    "\n",
    "# empty list that will hold cv scores\n",
    "cv_scores = []\n",
    "\n",
    "# perform 10-fold cross validation\n",
    "for k in neighbors:\n",
    "    knn = KNeighborsClassifier(n_neighbors=k)\n",
    "    scores = cross_val_score(knn, data_train, qualitylabel_train, cv=10, scoring='accuracy')\n",
    "    cv_scores.append(scores.mean())\n",
    "\n",
    "# changing to misclassification error\n",
    "MSE = [1 - x for x in cv_scores]\n",
    "\n",
    "# determining best k\n",
    "optimal_k = neighbors[MSE.index(min(MSE))]\n",
    "print('\\nThe optimal number of neighbors is %d.' % optimal_k)\n"
   ]
  },
  {
   "cell_type": "markdown",
   "metadata": {},
   "source": [
    "**Observation** :\n",
    "    In our dataset ,** it is imbalanced dataset , for our class variable 'quality' (which has only one datapoint that have class-variable (quality) value 1 , that might the reason we are triggering with these warnings**).\n",
    "    \n",
    "   \n",
    "  "
   ]
  },
  {
   "cell_type": "code",
   "execution_count": 70,
   "metadata": {},
   "outputs": [
    {
     "name": "stdout",
     "output_type": "stream",
     "text": [
      "\n",
      "The accuracy of the knn classifier for k = 1 is 57.666667%\n"
     ]
    }
   ],
   "source": [
    "# ============================== KNN with k = optimal_k ===============================================\n",
    "# instantiate learning model k = optimal_k\n",
    "knn_optimal = KNeighborsClassifier(n_neighbors=optimal_k)\n",
    "\n",
    "# fitting the model\n",
    "knn_optimal.fit(sample_data_train, wine_data_quality_train)\n",
    "\n",
    "# predict the response\n",
    "pred = knn_optimal.predict(sample_data_test)\n",
    "\n",
    "# evaluate accuracy\n",
    "acc = accuracy_score(wine_data_quality_test, pred) * 100\n",
    "print('\\nThe accuracy of the knn classifier for k = %d is %f%%' % (optimal_k, acc))"
   ]
  },
  {
   "cell_type": "markdown",
   "metadata": {},
   "source": [
    "### Observation : \n",
    "\n",
    "--> 57.66% can be generalized when we use K-nn algorithm\n",
    "\n",
    "As we got optimal-k value as 1 , it is better to switch to different algorithm (ensemble methods) random_forest or decision_tree. So,that we might improve our model. We switch to random_forest because it works fine in imbalanced datasets when compared to some of the other classification models"
   ]
  },
  {
   "cell_type": "markdown",
   "metadata": {},
   "source": [
    "## Using random_forest"
   ]
  },
  {
   "cell_type": "code",
   "execution_count": 81,
   "metadata": {
    "collapsed": true
   },
   "outputs": [],
   "source": [
    "from sklearn.ensemble import RandomForestClassifier\n",
    "\n",
    "random_forest_classifier = RandomForestClassifier()"
   ]
  },
  {
   "cell_type": "code",
   "execution_count": 82,
   "metadata": {},
   "outputs": [
    {
     "data": {
      "text/plain": [
       "RandomForestClassifier(bootstrap=True, class_weight=None, criterion='gini',\n",
       "            max_depth=None, max_features='auto', max_leaf_nodes=None,\n",
       "            min_impurity_decrease=0.0, min_impurity_split=None,\n",
       "            min_samples_leaf=1, min_samples_split=2,\n",
       "            min_weight_fraction_leaf=0.0, n_estimators=10, n_jobs=1,\n",
       "            oob_score=False, random_state=None, verbose=0,\n",
       "            warm_start=False)"
      ]
     },
     "execution_count": 82,
     "metadata": {},
     "output_type": "execute_result"
    }
   ],
   "source": [
    "random_forest_classifier.fit(sample_data_train,wine_data_quality_train)"
   ]
  },
  {
   "cell_type": "code",
   "execution_count": 83,
   "metadata": {
    "collapsed": true
   },
   "outputs": [],
   "source": [
    "#Predicting the result for test data\n",
    "prediction_label = random_forest_classifier.predict(sample_data_test)"
   ]
  },
  {
   "cell_type": "code",
   "execution_count": 127,
   "metadata": {},
   "outputs": [
    {
     "data": {
      "text/plain": [
       "0.564"
      ]
     },
     "execution_count": 127,
     "metadata": {},
     "output_type": "execute_result"
    }
   ],
   "source": [
    "#Creating confusion matrix and checking the accuracy\n",
    "from sklearn.metrics import confusion_matrix,accuracy_score\n",
    "confusionMatrix = confusion_matrix(wine_data_quality_test,prediction_label)\n",
    "accuracy_score(wine_data_quality_test,prediction_label)"
   ]
  },
  {
   "cell_type": "code",
   "execution_count": 129,
   "metadata": {},
   "outputs": [
    {
     "data": {
      "text/plain": [
       "56.39999999999999"
      ]
     },
     "execution_count": 129,
     "metadata": {},
     "output_type": "execute_result"
    }
   ],
   "source": [
    "#accuracy score is \n",
    "accuracy_score(wine_data_quality_test,prediction_label)*100"
   ]
  },
  {
   "cell_type": "markdown",
   "metadata": {},
   "source": [
    "**Observation**: \n",
    "\n",
    "1.Accuracy = 56.39% in case of predicting quality of given wine_dataset when we use random_forest to predict the data\n",
    "\n",
    "2.This can be generalized because we haven't used sample_data_test while creating a model (as here also sample_data_test can be considered as untouched data) that means we can predict that Given new wine data our chances of predicting it's quality will be 56.3%\n",
    "\n",
    "3.Accuracy we got in K-NN is slightly more when compared to this. But, we stick to Random Forest because Random Forest can be functioned well for unbalanced data when compared to K-NN.\n",
    "\n"
   ]
  },
  {
   "cell_type": "code",
   "execution_count": 134,
   "metadata": {
    "collapsed": true
   },
   "outputs": [],
   "source": [
    "#loading the test dataset and predict the class-variable(quality) to that dataset\n",
    "\n",
    "wine_data_test = pd.read_csv(\"challenge_public_test_classification_regression_2015.csv\")"
   ]
  },
  {
   "cell_type": "code",
   "execution_count": 135,
   "metadata": {},
   "outputs": [
    {
     "data": {
      "text/plain": [
       "(1000, 14)"
      ]
     },
     "execution_count": 135,
     "metadata": {},
     "output_type": "execute_result"
    }
   ],
   "source": [
    "wine_data_test.shape"
   ]
  },
  {
   "cell_type": "code",
   "execution_count": 136,
   "metadata": {},
   "outputs": [
    {
     "data": {
      "text/html": [
       "<div>\n",
       "<style scoped>\n",
       "    .dataframe tbody tr th:only-of-type {\n",
       "        vertical-align: middle;\n",
       "    }\n",
       "\n",
       "    .dataframe tbody tr th {\n",
       "        vertical-align: top;\n",
       "    }\n",
       "\n",
       "    .dataframe thead th {\n",
       "        text-align: right;\n",
       "    }\n",
       "</style>\n",
       "<table border=\"1\" class=\"dataframe\">\n",
       "  <thead>\n",
       "    <tr style=\"text-align: right;\">\n",
       "      <th></th>\n",
       "      <th>id</th>\n",
       "      <th>fixedAcidity</th>\n",
       "      <th>volatileAcidity</th>\n",
       "      <th>citricAcid</th>\n",
       "      <th>residualSugar</th>\n",
       "      <th>chlorides</th>\n",
       "      <th>freeSulfurDioxide</th>\n",
       "      <th>totalSulfurDioxide</th>\n",
       "      <th>density</th>\n",
       "      <th>pH</th>\n",
       "      <th>sulphates</th>\n",
       "      <th>alcohol</th>\n",
       "      <th>quality</th>\n",
       "      <th>type</th>\n",
       "    </tr>\n",
       "  </thead>\n",
       "  <tbody>\n",
       "    <tr>\n",
       "      <th>0</th>\n",
       "      <td>1</td>\n",
       "      <td>6.623879</td>\n",
       "      <td>0.350308</td>\n",
       "      <td>0.291192</td>\n",
       "      <td>14.231505</td>\n",
       "      <td>0.044939</td>\n",
       "      <td>56.313779</td>\n",
       "      <td>173.311310</td>\n",
       "      <td>1.000947</td>\n",
       "      <td>3.184398</td>\n",
       "      <td>0.579831</td>\n",
       "      <td>9.107156</td>\n",
       "      <td>NaN</td>\n",
       "      <td>NaN</td>\n",
       "    </tr>\n",
       "    <tr>\n",
       "      <th>1</th>\n",
       "      <td>2</td>\n",
       "      <td>7.001997</td>\n",
       "      <td>0.360802</td>\n",
       "      <td>0.251197</td>\n",
       "      <td>5.802122</td>\n",
       "      <td>0.016012</td>\n",
       "      <td>14.184137</td>\n",
       "      <td>66.170046</td>\n",
       "      <td>0.990834</td>\n",
       "      <td>2.847829</td>\n",
       "      <td>0.593433</td>\n",
       "      <td>13.064054</td>\n",
       "      <td>NaN</td>\n",
       "      <td>NaN</td>\n",
       "    </tr>\n",
       "    <tr>\n",
       "      <th>2</th>\n",
       "      <td>3</td>\n",
       "      <td>8.365224</td>\n",
       "      <td>0.199237</td>\n",
       "      <td>0.313605</td>\n",
       "      <td>2.790155</td>\n",
       "      <td>0.054998</td>\n",
       "      <td>16.875336</td>\n",
       "      <td>83.105477</td>\n",
       "      <td>0.994815</td>\n",
       "      <td>2.959980</td>\n",
       "      <td>0.451726</td>\n",
       "      <td>9.570900</td>\n",
       "      <td>NaN</td>\n",
       "      <td>NaN</td>\n",
       "    </tr>\n",
       "    <tr>\n",
       "      <th>3</th>\n",
       "      <td>4</td>\n",
       "      <td>7.206049</td>\n",
       "      <td>0.262821</td>\n",
       "      <td>0.300107</td>\n",
       "      <td>9.007575</td>\n",
       "      <td>0.051003</td>\n",
       "      <td>33.906743</td>\n",
       "      <td>169.741299</td>\n",
       "      <td>0.996002</td>\n",
       "      <td>3.217775</td>\n",
       "      <td>0.496368</td>\n",
       "      <td>10.519251</td>\n",
       "      <td>NaN</td>\n",
       "      <td>NaN</td>\n",
       "    </tr>\n",
       "    <tr>\n",
       "      <th>4</th>\n",
       "      <td>5</td>\n",
       "      <td>6.915703</td>\n",
       "      <td>0.338247</td>\n",
       "      <td>0.735664</td>\n",
       "      <td>11.227664</td>\n",
       "      <td>0.069907</td>\n",
       "      <td>45.824847</td>\n",
       "      <td>143.626491</td>\n",
       "      <td>0.997954</td>\n",
       "      <td>3.015690</td>\n",
       "      <td>0.811228</td>\n",
       "      <td>9.388134</td>\n",
       "      <td>NaN</td>\n",
       "      <td>NaN</td>\n",
       "    </tr>\n",
       "  </tbody>\n",
       "</table>\n",
       "</div>"
      ],
      "text/plain": [
       "   id  fixedAcidity  volatileAcidity  citricAcid  residualSugar  chlorides  \\\n",
       "0   1      6.623879         0.350308    0.291192      14.231505   0.044939   \n",
       "1   2      7.001997         0.360802    0.251197       5.802122   0.016012   \n",
       "2   3      8.365224         0.199237    0.313605       2.790155   0.054998   \n",
       "3   4      7.206049         0.262821    0.300107       9.007575   0.051003   \n",
       "4   5      6.915703         0.338247    0.735664      11.227664   0.069907   \n",
       "\n",
       "   freeSulfurDioxide  totalSulfurDioxide   density        pH  sulphates  \\\n",
       "0          56.313779          173.311310  1.000947  3.184398   0.579831   \n",
       "1          14.184137           66.170046  0.990834  2.847829   0.593433   \n",
       "2          16.875336           83.105477  0.994815  2.959980   0.451726   \n",
       "3          33.906743          169.741299  0.996002  3.217775   0.496368   \n",
       "4          45.824847          143.626491  0.997954  3.015690   0.811228   \n",
       "\n",
       "     alcohol  quality  type  \n",
       "0   9.107156      NaN   NaN  \n",
       "1  13.064054      NaN   NaN  \n",
       "2   9.570900      NaN   NaN  \n",
       "3  10.519251      NaN   NaN  \n",
       "4   9.388134      NaN   NaN  "
      ]
     },
     "execution_count": 136,
     "metadata": {},
     "output_type": "execute_result"
    }
   ],
   "source": [
    "wine_data_test.head()"
   ]
  },
  {
   "cell_type": "code",
   "execution_count": 137,
   "metadata": {
    "collapsed": true
   },
   "outputs": [],
   "source": [
    "wine_data_test_needed = wine_data_test[wine_data_test.columns[1:12]]"
   ]
  },
  {
   "cell_type": "code",
   "execution_count": 138,
   "metadata": {},
   "outputs": [
    {
     "data": {
      "text/plain": [
       "(1000, 11)"
      ]
     },
     "execution_count": 138,
     "metadata": {},
     "output_type": "execute_result"
    }
   ],
   "source": [
    "wine_data_test_needed.shape"
   ]
  },
  {
   "cell_type": "code",
   "execution_count": 139,
   "metadata": {},
   "outputs": [
    {
     "data": {
      "text/html": [
       "<div>\n",
       "<style scoped>\n",
       "    .dataframe tbody tr th:only-of-type {\n",
       "        vertical-align: middle;\n",
       "    }\n",
       "\n",
       "    .dataframe tbody tr th {\n",
       "        vertical-align: top;\n",
       "    }\n",
       "\n",
       "    .dataframe thead th {\n",
       "        text-align: right;\n",
       "    }\n",
       "</style>\n",
       "<table border=\"1\" class=\"dataframe\">\n",
       "  <thead>\n",
       "    <tr style=\"text-align: right;\">\n",
       "      <th></th>\n",
       "      <th>fixedAcidity</th>\n",
       "      <th>volatileAcidity</th>\n",
       "      <th>citricAcid</th>\n",
       "      <th>residualSugar</th>\n",
       "      <th>chlorides</th>\n",
       "      <th>freeSulfurDioxide</th>\n",
       "      <th>totalSulfurDioxide</th>\n",
       "      <th>density</th>\n",
       "      <th>pH</th>\n",
       "      <th>sulphates</th>\n",
       "      <th>alcohol</th>\n",
       "    </tr>\n",
       "  </thead>\n",
       "  <tbody>\n",
       "    <tr>\n",
       "      <th>0</th>\n",
       "      <td>6.623879</td>\n",
       "      <td>0.350308</td>\n",
       "      <td>0.291192</td>\n",
       "      <td>14.231505</td>\n",
       "      <td>0.044939</td>\n",
       "      <td>56.313779</td>\n",
       "      <td>173.311310</td>\n",
       "      <td>1.000947</td>\n",
       "      <td>3.184398</td>\n",
       "      <td>0.579831</td>\n",
       "      <td>9.107156</td>\n",
       "    </tr>\n",
       "    <tr>\n",
       "      <th>1</th>\n",
       "      <td>7.001997</td>\n",
       "      <td>0.360802</td>\n",
       "      <td>0.251197</td>\n",
       "      <td>5.802122</td>\n",
       "      <td>0.016012</td>\n",
       "      <td>14.184137</td>\n",
       "      <td>66.170046</td>\n",
       "      <td>0.990834</td>\n",
       "      <td>2.847829</td>\n",
       "      <td>0.593433</td>\n",
       "      <td>13.064054</td>\n",
       "    </tr>\n",
       "    <tr>\n",
       "      <th>2</th>\n",
       "      <td>8.365224</td>\n",
       "      <td>0.199237</td>\n",
       "      <td>0.313605</td>\n",
       "      <td>2.790155</td>\n",
       "      <td>0.054998</td>\n",
       "      <td>16.875336</td>\n",
       "      <td>83.105477</td>\n",
       "      <td>0.994815</td>\n",
       "      <td>2.959980</td>\n",
       "      <td>0.451726</td>\n",
       "      <td>9.570900</td>\n",
       "    </tr>\n",
       "    <tr>\n",
       "      <th>3</th>\n",
       "      <td>7.206049</td>\n",
       "      <td>0.262821</td>\n",
       "      <td>0.300107</td>\n",
       "      <td>9.007575</td>\n",
       "      <td>0.051003</td>\n",
       "      <td>33.906743</td>\n",
       "      <td>169.741299</td>\n",
       "      <td>0.996002</td>\n",
       "      <td>3.217775</td>\n",
       "      <td>0.496368</td>\n",
       "      <td>10.519251</td>\n",
       "    </tr>\n",
       "    <tr>\n",
       "      <th>4</th>\n",
       "      <td>6.915703</td>\n",
       "      <td>0.338247</td>\n",
       "      <td>0.735664</td>\n",
       "      <td>11.227664</td>\n",
       "      <td>0.069907</td>\n",
       "      <td>45.824847</td>\n",
       "      <td>143.626491</td>\n",
       "      <td>0.997954</td>\n",
       "      <td>3.015690</td>\n",
       "      <td>0.811228</td>\n",
       "      <td>9.388134</td>\n",
       "    </tr>\n",
       "  </tbody>\n",
       "</table>\n",
       "</div>"
      ],
      "text/plain": [
       "   fixedAcidity  volatileAcidity  citricAcid  residualSugar  chlorides  \\\n",
       "0      6.623879         0.350308    0.291192      14.231505   0.044939   \n",
       "1      7.001997         0.360802    0.251197       5.802122   0.016012   \n",
       "2      8.365224         0.199237    0.313605       2.790155   0.054998   \n",
       "3      7.206049         0.262821    0.300107       9.007575   0.051003   \n",
       "4      6.915703         0.338247    0.735664      11.227664   0.069907   \n",
       "\n",
       "   freeSulfurDioxide  totalSulfurDioxide   density        pH  sulphates  \\\n",
       "0          56.313779          173.311310  1.000947  3.184398   0.579831   \n",
       "1          14.184137           66.170046  0.990834  2.847829   0.593433   \n",
       "2          16.875336           83.105477  0.994815  2.959980   0.451726   \n",
       "3          33.906743          169.741299  0.996002  3.217775   0.496368   \n",
       "4          45.824847          143.626491  0.997954  3.015690   0.811228   \n",
       "\n",
       "     alcohol  \n",
       "0   9.107156  \n",
       "1  13.064054  \n",
       "2   9.570900  \n",
       "3  10.519251  \n",
       "4   9.388134  "
      ]
     },
     "execution_count": 139,
     "metadata": {},
     "output_type": "execute_result"
    }
   ],
   "source": [
    "wine_data_test_needed.head()"
   ]
  },
  {
   "cell_type": "code",
   "execution_count": 140,
   "metadata": {},
   "outputs": [
    {
     "name": "stdout",
     "output_type": "stream",
     "text": [
      "(1000, 11)\n"
     ]
    }
   ],
   "source": [
    "#Scaling the data\n",
    "standardized_data_test = StandardScaler().fit_transform(wine_data_test_needed)\n",
    "print(standardized_data_test.shape)\n"
   ]
  },
  {
   "cell_type": "code",
   "execution_count": 141,
   "metadata": {
    "collapsed": true
   },
   "outputs": [],
   "source": [
    "test_data_sample = standardized_data_test"
   ]
  },
  {
   "cell_type": "markdown",
   "metadata": {},
   "source": [
    "random_forest_classifier is the model or classifier which we created using trained data\n",
    "\n",
    "#### Predicting the quality for the test dataset"
   ]
  },
  {
   "cell_type": "code",
   "execution_count": 142,
   "metadata": {
    "collapsed": true
   },
   "outputs": [],
   "source": [
    "prediction_label_test = random_forest_classifier.predict(test_data_sample)"
   ]
  },
  {
   "cell_type": "code",
   "execution_count": 143,
   "metadata": {},
   "outputs": [
    {
     "data": {
      "text/plain": [
       "array([4, 3, 3, 4, 5, 4, 5, 4, 4, 3, 3, 4, 5, 4, 5, 4, 4, 5, 4, 4, 4, 4,\n",
       "       3, 3, 5, 4, 4, 5, 4, 4, 4, 6, 3, 4, 5, 5, 4, 4, 5, 4, 4, 5, 3, 4,\n",
       "       4, 4, 2, 4, 3, 4, 5, 4, 4, 5, 5, 5, 4, 4, 5, 4, 4, 4, 4, 4, 3, 4,\n",
       "       4, 5, 4, 5, 4, 5, 4, 4, 5, 4, 5, 4, 3, 5, 4, 4, 3, 5, 4, 5, 4, 5,\n",
       "       4, 4, 4, 3, 4, 4, 4, 4, 4, 3, 5, 5, 5, 5, 4, 5, 5, 5, 5, 5, 5, 4,\n",
       "       4, 4, 4, 3, 3, 3, 3, 4, 4, 4, 5, 4, 4, 4, 3, 5, 4, 4, 5, 4, 4, 5,\n",
       "       4, 4, 4, 4, 4, 5, 3, 3, 5, 5, 3, 4, 5, 4, 4, 5, 4, 4, 4, 5, 5, 4,\n",
       "       4, 5, 4, 5, 4, 5, 4, 5, 5, 5, 5, 5, 4, 5, 4, 5, 4, 3, 4, 4, 5, 5,\n",
       "       4, 3, 5, 5, 3, 4, 5, 5, 4, 5, 4, 4, 5, 5, 5, 4, 4, 4, 4, 3, 3, 5,\n",
       "       4, 4, 3, 5, 3, 4, 5, 3, 3, 4, 3, 4, 4, 4, 4, 5, 3, 4, 4, 3, 5, 5,\n",
       "       4, 4, 4, 4, 5, 4, 4, 4, 4, 5, 4, 4, 4, 3, 4, 3, 4, 3, 5, 4, 5, 4,\n",
       "       5, 4, 5, 5, 3, 4, 4, 4, 5, 4, 3, 5, 5, 3, 3, 5, 4, 5, 3, 4, 3, 3,\n",
       "       4, 4, 4, 5, 5, 4, 4, 4, 4, 4, 4, 5, 4, 2, 5, 4, 4, 4, 4, 4, 3, 4,\n",
       "       4, 5, 4, 4, 4, 5, 4, 4, 5, 5, 4, 4, 3, 3, 2, 4, 4, 4, 3, 3, 5, 5,\n",
       "       4, 5, 4, 4, 5, 4, 3, 3, 5, 5, 3, 5, 4, 4, 5, 5, 4, 4, 3, 4, 5, 3,\n",
       "       4, 5, 4, 3, 4, 4, 4, 4, 4, 5, 5, 4, 5, 4, 3, 4, 5, 4, 4, 5, 4, 4,\n",
       "       3, 3, 3, 5, 5, 4, 4, 4, 5, 5, 4, 4, 4, 4, 4, 5, 4, 4, 5, 4, 3, 4,\n",
       "       4, 5, 4, 5, 4, 5, 4, 5, 5, 5, 4, 4, 5, 5, 4, 3, 4, 2, 5, 4, 5, 4,\n",
       "       4, 3, 5, 4, 4, 5, 5, 4, 3, 3, 4, 5, 3, 5, 4, 5, 4, 5, 4, 2, 4, 4,\n",
       "       5, 5, 4, 4, 5, 5, 3, 5, 4, 5, 5, 4, 5, 3, 5, 4, 5, 4, 4, 5, 4, 3,\n",
       "       4, 4, 5, 5, 3, 5, 6, 5, 4, 4, 4, 5, 4, 5, 5, 4, 5, 5, 5, 3, 4, 4,\n",
       "       4, 3, 5, 4, 4, 5, 4, 4, 4, 4, 3, 5, 3, 4, 4, 3, 4, 4, 3, 4, 5, 4,\n",
       "       3, 4, 5, 5, 5, 5, 4, 4, 3, 4, 4, 4, 4, 4, 3, 5, 5, 4, 4, 5, 4, 3,\n",
       "       4, 4, 5, 5, 4, 3, 5, 5, 4, 3, 4, 4, 4, 5, 4, 4, 4, 5, 5, 3, 5, 4,\n",
       "       3, 4, 4, 3, 3, 5, 3, 4, 5, 3, 5, 5, 5, 5, 4, 5, 5, 3, 5, 4, 4, 4,\n",
       "       5, 5, 4, 5, 4, 4, 3, 3, 4, 4, 5, 3, 4, 3, 2, 4, 3, 4, 3, 4, 5, 4,\n",
       "       3, 3, 3, 5, 4, 5, 4, 4, 4, 4, 4, 5, 3, 3, 3, 4, 3, 4, 4, 3, 4, 5,\n",
       "       3, 2, 3, 5, 5, 4, 4, 4, 4, 4, 3, 4, 4, 4, 4, 4, 4, 4, 3, 5, 4, 3,\n",
       "       4, 3, 4, 4, 5, 5, 3, 4, 5, 5, 4, 5, 5, 4, 3, 4, 4, 5, 4, 3, 5, 3,\n",
       "       4, 4, 3, 4, 4, 5, 3, 4, 5, 3, 4, 4, 5, 4, 5, 4, 3, 5, 3, 5, 3, 5,\n",
       "       3, 4, 3, 3, 5, 4, 3, 4, 5, 4, 5, 4, 4, 5, 5, 4, 5, 4, 3, 4, 4, 4,\n",
       "       3, 3, 5, 4, 2, 4, 5, 3, 4, 4, 5, 3, 5, 5, 4, 4, 4, 5, 5, 4, 4, 4,\n",
       "       4, 4, 3, 4, 3, 3, 5, 4, 5, 4, 4, 4, 4, 4, 5, 5, 4, 4, 5, 5, 5, 5,\n",
       "       4, 4, 5, 5, 4, 5, 4, 5, 5, 4, 5, 3, 4, 4, 4, 5, 4, 3, 5, 4, 3, 5,\n",
       "       4, 4, 4, 4, 3, 5, 5, 4, 5, 5, 5, 4, 4, 4, 5, 5, 3, 4, 4, 3, 5, 5,\n",
       "       5, 4, 4, 5, 3, 4, 4, 3, 4, 4, 4, 5, 4, 4, 3, 5, 5, 5, 4, 4, 5, 5,\n",
       "       4, 5, 4, 4, 4, 4, 5, 5, 3, 5, 3, 3, 4, 4, 4, 4, 4, 5, 5, 4, 5, 5,\n",
       "       4, 4, 4, 4, 4, 4, 4, 4, 3, 5, 5, 3, 4, 3, 5, 4, 3, 2, 5, 4, 4, 4,\n",
       "       4, 4, 5, 5, 4, 4, 5, 3, 4, 4, 4, 3, 5, 3, 4, 5, 5, 5, 5, 5, 3, 5,\n",
       "       4, 5, 4, 4, 4, 3, 3, 4, 4, 4, 5, 5, 4, 4, 5, 4, 3, 3, 3, 5, 3, 2,\n",
       "       4, 5, 4, 5, 5, 4, 5, 5, 4, 4, 5, 2, 4, 4, 4, 3, 5, 4, 5, 4, 4, 4,\n",
       "       3, 6, 4, 2, 5, 4, 4, 3, 5, 4, 3, 4, 4, 4, 5, 5, 5, 5, 5, 4, 4, 3,\n",
       "       4, 3, 4, 4, 4, 4, 3, 5, 4, 4, 5, 4, 5, 5, 3, 4, 5, 4, 5, 3, 3, 5,\n",
       "       5, 5, 4, 4, 4, 5, 4, 5, 4, 2, 4, 5, 4, 4, 4, 4, 4, 3, 5, 5, 5, 4,\n",
       "       5, 5, 4, 5, 4, 5, 2, 3, 4, 3, 4, 5, 4, 5, 4, 4, 3, 5, 3, 4, 4, 5,\n",
       "       4, 3, 4, 3, 4, 4, 3, 5, 4, 4], dtype=int64)"
      ]
     },
     "execution_count": 143,
     "metadata": {},
     "output_type": "execute_result"
    }
   ],
   "source": [
    "prediction_label_test"
   ]
  },
  {
   "cell_type": "code",
   "execution_count": 149,
   "metadata": {
    "collapsed": true
   },
   "outputs": [],
   "source": [
    "predicted_quality = pd.Series(prediction_label_test)"
   ]
  },
  {
   "cell_type": "markdown",
   "metadata": {},
   "source": [
    "### Predicting the class- variable (type) \n",
    "\n",
    "##### Another class variable (type) in the wine_dataset"
   ]
  },
  {
   "cell_type": "code",
   "execution_count": 132,
   "metadata": {
    "collapsed": true
   },
   "outputs": [],
   "source": [
    "#creating a duplicate copy of the dataset\n",
    "wine_data_dup = wine_data"
   ]
  },
  {
   "cell_type": "code",
   "execution_count": 105,
   "metadata": {
    "collapsed": true
   },
   "outputs": [],
   "source": [
    "def convert(i):\n",
    "    if i == 'White':\n",
    "        return 0\n",
    "    else:\n",
    "        return 1"
   ]
  },
  {
   "cell_type": "code",
   "execution_count": 106,
   "metadata": {},
   "outputs": [],
   "source": [
    "wine_data_dup['type'] = wine_data_dup['type'].apply(convert)"
   ]
  },
  {
   "cell_type": "code",
   "execution_count": 108,
   "metadata": {},
   "outputs": [
    {
     "data": {
      "text/plain": [
       "0    4086\n",
       "1     914\n",
       "Name: type, dtype: int64"
      ]
     },
     "execution_count": 108,
     "metadata": {},
     "output_type": "execute_result"
    }
   ],
   "source": [
    "wine_data_dup['type'].value_counts()"
   ]
  },
  {
   "cell_type": "code",
   "execution_count": 109,
   "metadata": {
    "collapsed": true
   },
   "outputs": [],
   "source": [
    "wine_data_Type = wine_data_dup['type']"
   ]
  },
  {
   "cell_type": "code",
   "execution_count": 110,
   "metadata": {},
   "outputs": [
    {
     "data": {
      "text/plain": [
       "(5000,)"
      ]
     },
     "execution_count": 110,
     "metadata": {},
     "output_type": "execute_result"
    }
   ],
   "source": [
    "wine_data_Type.shape"
   ]
  },
  {
   "cell_type": "code",
   "execution_count": 111,
   "metadata": {},
   "outputs": [
    {
     "data": {
      "text/plain": [
       "0    4086\n",
       "1     914\n",
       "Name: type, dtype: int64"
      ]
     },
     "execution_count": 111,
     "metadata": {},
     "output_type": "execute_result"
    }
   ],
   "source": [
    "wine_data_Type.value_counts()"
   ]
  },
  {
   "cell_type": "code",
   "execution_count": 133,
   "metadata": {},
   "outputs": [],
   "source": [
    "#splitting the data based on the class-variable[type]  \n",
    "sample_data_train_2,sample_data_test_2,wine_data_quality_train_2,wine_data_quality_test_2 = train_test_split(sample_data, wine_data_Type, test_size=0.20,random_state = 0) "
   ]
  },
  {
   "cell_type": "code",
   "execution_count": 118,
   "metadata": {},
   "outputs": [
    {
     "data": {
      "text/plain": [
       "(1000, 11)"
      ]
     },
     "execution_count": 118,
     "metadata": {},
     "output_type": "execute_result"
    }
   ],
   "source": [
    "sample_data_test_2.shape"
   ]
  },
  {
   "cell_type": "code",
   "execution_count": 120,
   "metadata": {},
   "outputs": [
    {
     "data": {
      "text/plain": [
       "0    823\n",
       "1    177\n",
       "Name: type, dtype: int64"
      ]
     },
     "execution_count": 120,
     "metadata": {},
     "output_type": "execute_result"
    }
   ],
   "source": [
    "wine_data_quality_test_2.value_counts()"
   ]
  },
  {
   "cell_type": "code",
   "execution_count": 123,
   "metadata": {},
   "outputs": [
    {
     "data": {
      "text/plain": [
       "0    3263\n",
       "1     737\n",
       "Name: type, dtype: int64"
      ]
     },
     "execution_count": 123,
     "metadata": {},
     "output_type": "execute_result"
    }
   ],
   "source": [
    "wine_data_quality_train_2.value_counts()"
   ]
  },
  {
   "cell_type": "code",
   "execution_count": 121,
   "metadata": {
    "collapsed": true
   },
   "outputs": [],
   "source": [
    "random_forest_classifier_2 = RandomForestClassifier()"
   ]
  },
  {
   "cell_type": "code",
   "execution_count": 122,
   "metadata": {},
   "outputs": [
    {
     "data": {
      "text/plain": [
       "RandomForestClassifier(bootstrap=True, class_weight=None, criterion='gini',\n",
       "            max_depth=None, max_features='auto', max_leaf_nodes=None,\n",
       "            min_impurity_decrease=0.0, min_impurity_split=None,\n",
       "            min_samples_leaf=1, min_samples_split=2,\n",
       "            min_weight_fraction_leaf=0.0, n_estimators=10, n_jobs=1,\n",
       "            oob_score=False, random_state=None, verbose=0,\n",
       "            warm_start=False)"
      ]
     },
     "execution_count": 122,
     "metadata": {},
     "output_type": "execute_result"
    }
   ],
   "source": [
    "random_forest_classifier_2.fit(sample_data_train_2,wine_data_quality_train_2)"
   ]
  },
  {
   "cell_type": "code",
   "execution_count": 125,
   "metadata": {},
   "outputs": [],
   "source": [
    "#Predicting the result for test data\n",
    "prediction_label_2 = random_forest_classifier_2.predict(sample_data_test_2)"
   ]
  },
  {
   "cell_type": "code",
   "execution_count": 126,
   "metadata": {},
   "outputs": [
    {
     "name": "stdout",
     "output_type": "stream",
     "text": [
      "[[820   3]\n",
      " [  6 171]]\n"
     ]
    },
    {
     "data": {
      "text/plain": [
       "0.991"
      ]
     },
     "execution_count": 126,
     "metadata": {},
     "output_type": "execute_result"
    }
   ],
   "source": [
    "from sklearn.metrics import confusion_matrix,accuracy_score\n",
    "confusionMatrix = confusion_matrix(wine_data_quality_test_2,prediction_label_2)\n",
    "print(confusionMatrix)\n",
    "accuracy_score(wine_data_quality_test_2,prediction_label_2)"
   ]
  },
  {
   "cell_type": "markdown",
   "metadata": {},
   "source": [
    "### Predicting the class- variable (type) on test-dataset\n"
   ]
  },
  {
   "cell_type": "markdown",
   "metadata": {},
   "source": [
    "#### Predicting the class-variable(type) for the test dataset"
   ]
  },
  {
   "cell_type": "code",
   "execution_count": 145,
   "metadata": {
    "collapsed": true
   },
   "outputs": [],
   "source": [
    "prediction_label_test_type = random_forest_classifier_2.predict(test_data_sample)"
   ]
  },
  {
   "cell_type": "code",
   "execution_count": 146,
   "metadata": {},
   "outputs": [
    {
     "data": {
      "text/plain": [
       "array([0, 0, 0, 0, 0, 1, 0, 0, 0, 0, 0, 0, 0, 0, 1, 0, 0, 0, 0, 0, 0, 1,\n",
       "       0, 0, 0, 0, 0, 0, 0, 0, 1, 0, 0, 0, 0, 0, 0, 0, 0, 0, 0, 0, 0, 0,\n",
       "       0, 0, 0, 0, 0, 0, 1, 0, 0, 0, 0, 0, 0, 0, 0, 1, 0, 0, 0, 0, 1, 0,\n",
       "       0, 1, 0, 0, 1, 0, 0, 0, 1, 0, 0, 0, 0, 0, 0, 0, 0, 1, 0, 0, 0, 0,\n",
       "       0, 0, 1, 0, 0, 1, 0, 0, 0, 1, 0, 1, 0, 0, 0, 0, 0, 0, 1, 0, 0, 0,\n",
       "       1, 0, 0, 0, 1, 0, 0, 0, 0, 0, 1, 0, 0, 0, 0, 1, 0, 0, 0, 1, 0, 1,\n",
       "       0, 1, 1, 0, 0, 0, 0, 0, 0, 0, 1, 0, 1, 0, 1, 0, 0, 0, 0, 1, 0, 0,\n",
       "       0, 0, 0, 0, 0, 0, 0, 0, 0, 0, 0, 0, 0, 0, 1, 0, 1, 0, 0, 0, 0, 0,\n",
       "       0, 0, 1, 0, 0, 0, 1, 0, 0, 1, 0, 1, 1, 0, 0, 0, 0, 0, 0, 0, 1, 0,\n",
       "       0, 1, 0, 0, 0, 1, 1, 0, 1, 1, 0, 0, 0, 0, 1, 0, 0, 0, 1, 0, 0, 0,\n",
       "       0, 0, 0, 0, 0, 0, 1, 1, 0, 0, 0, 0, 0, 0, 1, 0, 0, 1, 0, 0, 0, 0,\n",
       "       0, 0, 0, 0, 0, 0, 0, 1, 0, 0, 0, 1, 1, 1, 0, 1, 1, 0, 0, 0, 0, 0,\n",
       "       1, 1, 0, 0, 0, 0, 0, 1, 0, 0, 0, 1, 0, 0, 0, 0, 0, 0, 0, 0, 1, 1,\n",
       "       0, 0, 0, 0, 0, 0, 0, 0, 0, 0, 1, 0, 0, 0, 0, 1, 0, 0, 0, 0, 0, 0,\n",
       "       0, 0, 0, 0, 1, 0, 0, 0, 0, 0, 0, 0, 0, 1, 0, 1, 0, 0, 0, 0, 0, 1,\n",
       "       0, 1, 0, 0, 0, 1, 0, 1, 0, 0, 0, 0, 0, 0, 0, 0, 0, 0, 0, 1, 0, 0,\n",
       "       0, 0, 0, 0, 0, 0, 0, 0, 0, 1, 0, 0, 1, 0, 0, 0, 0, 0, 0, 0, 0, 0,\n",
       "       0, 0, 0, 1, 0, 1, 1, 1, 0, 0, 0, 0, 0, 0, 0, 0, 0, 0, 0, 0, 1, 0,\n",
       "       0, 0, 0, 0, 0, 0, 0, 0, 0, 0, 0, 0, 1, 0, 0, 0, 0, 1, 0, 0, 0, 0,\n",
       "       0, 0, 0, 0, 0, 0, 0, 1, 1, 0, 0, 0, 1, 0, 1, 0, 0, 0, 0, 0, 1, 0,\n",
       "       1, 1, 0, 1, 0, 1, 0, 0, 1, 1, 0, 0, 0, 0, 1, 0, 0, 0, 0, 0, 0, 0,\n",
       "       0, 0, 1, 0, 0, 0, 0, 0, 0, 0, 0, 0, 1, 0, 0, 0, 0, 0, 0, 0, 0, 0,\n",
       "       0, 0, 0, 1, 0, 0, 0, 0, 0, 0, 1, 0, 0, 0, 0, 1, 0, 0, 1, 1, 0, 0,\n",
       "       0, 0, 0, 1, 1, 1, 0, 0, 0, 0, 0, 0, 0, 0, 0, 0, 0, 0, 0, 0, 0, 0,\n",
       "       0, 0, 0, 0, 0, 0, 0, 0, 0, 0, 1, 0, 0, 1, 0, 0, 0, 0, 0, 0, 0, 0,\n",
       "       1, 0, 0, 0, 0, 1, 0, 0, 0, 1, 1, 0, 0, 0, 0, 0, 0, 0, 0, 0, 0, 0,\n",
       "       0, 0, 0, 0, 0, 0, 0, 0, 0, 0, 0, 0, 0, 0, 0, 0, 0, 1, 0, 0, 0, 0,\n",
       "       0, 0, 0, 0, 0, 0, 0, 0, 0, 0, 0, 0, 0, 1, 0, 0, 0, 0, 0, 1, 0, 0,\n",
       "       1, 0, 0, 0, 1, 1, 0, 1, 0, 1, 0, 0, 0, 0, 0, 0, 0, 0, 0, 0, 0, 0,\n",
       "       1, 0, 0, 0, 0, 0, 0, 0, 0, 0, 0, 0, 0, 0, 1, 0, 0, 0, 0, 0, 0, 0,\n",
       "       0, 0, 1, 0, 0, 0, 0, 0, 1, 0, 0, 1, 0, 1, 0, 1, 0, 0, 0, 0, 0, 0,\n",
       "       0, 0, 1, 0, 1, 0, 0, 0, 1, 0, 0, 0, 0, 0, 0, 0, 0, 0, 0, 0, 0, 0,\n",
       "       0, 1, 0, 0, 0, 1, 0, 0, 0, 0, 0, 0, 0, 0, 0, 0, 0, 0, 0, 0, 1, 1,\n",
       "       0, 0, 1, 1, 0, 0, 0, 0, 1, 0, 1, 0, 0, 0, 1, 0, 0, 0, 0, 0, 0, 1,\n",
       "       0, 1, 0, 0, 0, 0, 0, 0, 0, 1, 1, 0, 0, 0, 0, 0, 0, 0, 0, 0, 1, 1,\n",
       "       1, 0, 0, 0, 0, 0, 0, 0, 0, 0, 0, 1, 0, 0, 0, 1, 1, 0, 0, 1, 1, 0,\n",
       "       0, 0, 1, 0, 0, 0, 1, 1, 0, 0, 1, 0, 0, 0, 1, 0, 0, 1, 0, 0, 0, 1,\n",
       "       0, 0, 0, 0, 1, 0, 0, 0, 0, 0, 0, 0, 1, 0, 0, 0, 0, 0, 1, 1, 0, 0,\n",
       "       0, 0, 1, 0, 0, 0, 0, 0, 1, 0, 0, 0, 0, 0, 0, 0, 0, 0, 0, 1, 1, 0,\n",
       "       0, 0, 0, 0, 0, 0, 0, 0, 0, 0, 1, 1, 0, 0, 1, 0, 0, 0, 0, 0, 1, 0,\n",
       "       0, 1, 0, 0, 0, 0, 1, 1, 0, 0, 0, 0, 0, 0, 0, 0, 1, 0, 0, 0, 0, 0,\n",
       "       0, 0, 0, 0, 0, 1, 0, 0, 1, 0, 0, 0, 0, 0, 1, 0, 0, 0, 0, 0, 0, 0,\n",
       "       0, 0, 0, 1, 0, 0, 0, 0, 0, 0, 0, 0, 0, 1, 0, 0, 0, 0, 0, 1, 0, 0,\n",
       "       0, 1, 0, 0, 0, 0, 0, 0, 0, 0, 0, 0, 0, 0, 0, 1, 0, 0, 0, 0, 0, 0,\n",
       "       0, 0, 0, 0, 0, 0, 0, 0, 0, 0, 0, 0, 0, 0, 1, 0, 0, 0, 0, 1, 0, 0,\n",
       "       0, 0, 0, 0, 0, 0, 1, 0, 0, 0], dtype=int64)"
      ]
     },
     "execution_count": 146,
     "metadata": {},
     "output_type": "execute_result"
    }
   ],
   "source": [
    "prediction_label_test_type"
   ]
  },
  {
   "cell_type": "markdown",
   "metadata": {},
   "source": [
    " ### 0 -  indicates White\n",
    "    \n",
    " ### 1 - indicates Red"
   ]
  },
  {
   "cell_type": "code",
   "execution_count": 150,
   "metadata": {
    "collapsed": true
   },
   "outputs": [],
   "source": [
    "predicted_type = pd.Series(prediction_label_test_type).map({0:\"White\",1:\"Red\"})"
   ]
  },
  {
   "cell_type": "code",
   "execution_count": 151,
   "metadata": {
    "collapsed": true
   },
   "outputs": [],
   "source": [
    "df = pd.DataFrame({\"id\":wine_data_test['id'],\"quality\":predicted_quality,\"type\":predicted_type})"
   ]
  },
  {
   "cell_type": "code",
   "execution_count": 153,
   "metadata": {},
   "outputs": [
    {
     "data": {
      "text/html": [
       "<div>\n",
       "<style scoped>\n",
       "    .dataframe tbody tr th:only-of-type {\n",
       "        vertical-align: middle;\n",
       "    }\n",
       "\n",
       "    .dataframe tbody tr th {\n",
       "        vertical-align: top;\n",
       "    }\n",
       "\n",
       "    .dataframe thead th {\n",
       "        text-align: right;\n",
       "    }\n",
       "</style>\n",
       "<table border=\"1\" class=\"dataframe\">\n",
       "  <thead>\n",
       "    <tr style=\"text-align: right;\">\n",
       "      <th></th>\n",
       "      <th>id</th>\n",
       "      <th>quality</th>\n",
       "      <th>type</th>\n",
       "    </tr>\n",
       "  </thead>\n",
       "  <tbody>\n",
       "    <tr>\n",
       "      <th>0</th>\n",
       "      <td>1</td>\n",
       "      <td>4</td>\n",
       "      <td>White</td>\n",
       "    </tr>\n",
       "    <tr>\n",
       "      <th>1</th>\n",
       "      <td>2</td>\n",
       "      <td>3</td>\n",
       "      <td>White</td>\n",
       "    </tr>\n",
       "    <tr>\n",
       "      <th>2</th>\n",
       "      <td>3</td>\n",
       "      <td>3</td>\n",
       "      <td>White</td>\n",
       "    </tr>\n",
       "    <tr>\n",
       "      <th>3</th>\n",
       "      <td>4</td>\n",
       "      <td>4</td>\n",
       "      <td>White</td>\n",
       "    </tr>\n",
       "    <tr>\n",
       "      <th>4</th>\n",
       "      <td>5</td>\n",
       "      <td>5</td>\n",
       "      <td>White</td>\n",
       "    </tr>\n",
       "  </tbody>\n",
       "</table>\n",
       "</div>"
      ],
      "text/plain": [
       "   id  quality   type\n",
       "0   1        4  White\n",
       "1   2        3  White\n",
       "2   3        3  White\n",
       "3   4        4  White\n",
       "4   5        5  White"
      ]
     },
     "execution_count": 153,
     "metadata": {},
     "output_type": "execute_result"
    }
   ],
   "source": [
    "df.head()"
   ]
  },
  {
   "cell_type": "code",
   "execution_count": 154,
   "metadata": {
    "collapsed": true
   },
   "outputs": [],
   "source": [
    "df.to_csv(\"output.csv\",index=False)"
   ]
  },
  {
   "cell_type": "code",
   "execution_count": null,
   "metadata": {
    "collapsed": true
   },
   "outputs": [],
   "source": []
  }
 ],
 "metadata": {
  "kernelspec": {
   "display_name": "Python 3",
   "language": "python",
   "name": "python3"
  },
  "language_info": {
   "codemirror_mode": {
    "name": "ipython",
    "version": 3
   },
   "file_extension": ".py",
   "mimetype": "text/x-python",
   "name": "python",
   "nbconvert_exporter": "python",
   "pygments_lexer": "ipython3",
   "version": "3.6.1"
  }
 },
 "nbformat": 4,
 "nbformat_minor": 2
}
